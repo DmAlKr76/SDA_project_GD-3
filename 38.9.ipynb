{
 "cells": [
  {
   "cell_type": "markdown",
   "metadata": {},
   "source": [
    "Импортируем библиотеку и данные"
   ]
  },
  {
   "cell_type": "code",
   "execution_count": 59,
   "metadata": {},
   "outputs": [],
   "source": [
    "import pandas as pd\n",
    "\n",
    "events_df = pd.read_csv('7_4_Events.csv')\n",
    "purchase_df = pd.read_csv('7_4_Purchase.csv')"
   ]
  },
  {
   "cell_type": "markdown",
   "metadata": {},
   "source": [
    "Отфильтруем полученнные данные в соответствии с заданием и произведем преобразование типа и даты "
   ]
  },
  {
   "cell_type": "code",
   "execution_count": 60,
   "metadata": {},
   "outputs": [],
   "source": [
    "cond = (events_df.start_time>='2018-01-01') & (events_df.start_time<'2019-01-01') & (events_df.event_type=='registration')\n",
    "registered = events_df[cond]['user_id'].to_list()\n",
    "events_df = events_df[events_df.user_id.isin(registered)]\n",
    "events_df.start_time = pd.to_datetime(events_df.start_time, format='%Y-%m-%dT%H:%M:%S')\n",
    "\n",
    "purchase_df['event_type'] = 'purchase'\n",
    "purchase_df = purchase_df[purchase_df.user_id.isin(registered)]\n",
    "purchase_df.event_datetime = pd.to_datetime(purchase_df.event_datetime, format='%Y-%m-%dT%H:%M:%S')"
   ]
  },
  {
   "cell_type": "markdown",
   "metadata": {},
   "source": [
    "Переименуем колонки и произведем объединение"
   ]
  },
  {
   "cell_type": "code",
   "execution_count": 61,
   "metadata": {},
   "outputs": [],
   "source": [
    "events_df = events_df.rename(columns={'id':'event_id'})\n",
    "purchase_df = purchase_df.rename(columns={'id':'purchase_id'})\n",
    "\n",
    "total_events_df = pd.concat([events_df,purchase_df],sort=False)\n",
    "total_events_df = total_events_df.reset_index(drop=True).sort_values('start_time')"
   ]
  },
  {
   "cell_type": "markdown",
   "metadata": {},
   "source": [
    "Распределим пользователей по группам, в зависимости от выбора уровня сложности бесплатных тренировок. Сформируем датафреймы по группам пользователей с датой регистрации и с выбором уровня сложности, а также произведем замену названия колонок даты и времени события. Произведем проверки единичности событий."
   ]
  },
  {
   "cell_type": "code",
   "execution_count": 62,
   "metadata": {},
   "outputs": [
    {
     "name": "stdout",
     "output_type": "stream",
     "text": [
      "Проверка единичности события регистрации \"easy\": True\n",
      "Проверка единичности события выбора уровня сложности \"easy\": True\n",
      "Проверка единичности события регистрации \"medium\": True\n",
      "Проверка единичности события выбора уровня сложности \"medium\": True\n",
      "Проверка единичности события регистрации \"hard\": True\n",
      "Проверка единичности события выбора уровня сложности \"hard\": True\n"
     ]
    }
   ],
   "source": [
    "users_with_easy_level = total_events_df[total_events_df['selected_level'] == 'easy']['user_id'].unique()\n",
    "users_with_easy_level_df_registration = total_events_df[(total_events_df['event_type'] == 'registration') & (total_events_df['user_id'].isin(users_with_easy_level))]\n",
    "users_with_easy_level_df_registration = users_with_easy_level_df_registration[['user_id','start_time']].rename(columns={'start_time':'registration_time'})\n",
    "print('Проверка единичности события регистрации \"easy\":', (users_with_easy_level_df_registration['user_id'].value_counts().mean()) == 1)\n",
    "users_with_easy_level_df_level_choice = total_events_df[(total_events_df['event_type'] == 'level_choice') & (total_events_df['user_id'].isin(users_with_easy_level))]\n",
    "users_with_easy_level_df_level_choice = users_with_easy_level_df_level_choice[['user_id','start_time']].rename(columns={'start_time':'level_choice_time'})\n",
    "print('Проверка единичности события выбора уровня сложности \"easy\":', (users_with_easy_level_df_level_choice['user_id'].value_counts().mean()) == 1)\n",
    "\n",
    "users_with_medium_level = total_events_df[total_events_df['selected_level'] == 'medium']['user_id'].unique()\n",
    "users_with_medium_level_df_registration = total_events_df[(total_events_df['event_type'] == 'registration') & (total_events_df['user_id'].isin(users_with_medium_level))]\n",
    "users_with_medium_level_df_registration = users_with_medium_level_df_registration[['user_id','start_time']].rename(columns={'start_time':'registration_time'})\n",
    "print('Проверка единичности события регистрации \"medium\":', (users_with_medium_level_df_registration['user_id'].value_counts().mean()) == 1)\n",
    "users_with_medium_level_df_level_choice = total_events_df[(total_events_df['event_type'] == 'level_choice') & (total_events_df['user_id'].isin(users_with_medium_level))]\n",
    "users_with_medium_level_df_level_choice = users_with_medium_level_df_level_choice[['user_id','start_time']].rename(columns={'start_time':'level_choice_time'})\n",
    "print('Проверка единичности события выбора уровня сложности \"medium\":', (users_with_medium_level_df_level_choice['user_id'].value_counts().mean()) == 1)\n",
    "\n",
    "users_with_hard_level = total_events_df[total_events_df['selected_level'] == 'hard']['user_id'].unique()\n",
    "users_with_hard_level_df_registration = total_events_df[(total_events_df['event_type'] == 'registration') & (total_events_df['user_id'].isin(users_with_hard_level))]\n",
    "users_with_hard_level_df_registration = users_with_hard_level_df_registration[['user_id','start_time']].rename(columns={'start_time':'registration_time'})\n",
    "print('Проверка единичности события регистрации \"hard\":', (users_with_hard_level_df_registration['user_id'].value_counts().mean()) == 1)\n",
    "users_with_hard_level_df_level_choice = total_events_df[(total_events_df['event_type'] == 'level_choice') & (total_events_df['user_id'].isin(users_with_hard_level))]\n",
    "users_with_hard_level_df_level_choice = users_with_hard_level_df_level_choice[['user_id','start_time']].rename(columns={'start_time':'level_choice_time'})\n",
    "print('Проверка единичности события выбора уровня сложности \"hard\":', (users_with_hard_level_df_level_choice['user_id'].value_counts().mean()) == 1)\n"
   ]
  },
  {
   "cell_type": "markdown",
   "metadata": {},
   "source": [
    "Посчитаем для каждого уровня сложности бесплатных тренировок количество и процент оплативших пользователей, а также временной промежуток между регистрацией и оплатой, выбором уровня сложности и оплатой."
   ]
  },
  {
   "cell_type": "markdown",
   "metadata": {},
   "source": [
    "Уровень сложности 'easy':"
   ]
  },
  {
   "cell_type": "code",
   "execution_count": 63,
   "metadata": {},
   "outputs": [
    {
     "name": "stdout",
     "output_type": "stream",
     "text": [
      "Процент оплативших пользователей, выбравших уровень сложности \"easy\": 7.72%\n",
      "\n",
      "Среднее время между регистрацией и оплатой для пользователей, выбравших уровень сложности \"easy\": 3 days 22:10:23.211640211\n",
      "Характеристики времени:\n",
      "count                          189\n",
      "mean     3 days 22:10:23.211640211\n",
      "std      2 days 07:14:41.062010764\n",
      "min                0 days 04:36:58\n",
      "25%                2 days 01:12:12\n",
      "50%                3 days 11:00:23\n",
      "75%                5 days 10:24:59\n",
      "max               11 days 00:35:04\n",
      "Name: timedelta, dtype: object\n",
      "\n",
      "Среднее время между выбором уровня сложности и оплатой для пользователей, выбравших уровень сложности \"easy\": 3 days 14:58:52.941798941\n",
      "Характеристики времени:\n",
      "count                          189\n",
      "mean     3 days 14:58:52.941798941\n",
      "std      2 days 07:06:35.644097504\n",
      "min                0 days 00:49:20\n",
      "25%                1 days 17:18:56\n",
      "50%                3 days 06:03:50\n",
      "75%                5 days 06:58:18\n",
      "max               10 days 18:35:09\n",
      "Name: timedelta, dtype: object\n",
      "\n"
     ]
    }
   ],
   "source": [
    "count_of_users_with_easy_level = len(users_with_easy_level)\n",
    "purchase_df_of_users_with_easy_level = purchase_df[purchase_df['user_id'].isin(users_with_easy_level)]\n",
    "percent_of_users_with_easy_level = purchase_df_of_users_with_easy_level['user_id'].nunique()/count_of_users_with_easy_level\n",
    "print ('Процент оплативших пользователей, выбравших уровень сложности \"easy\": {:.2%}'.format(percent_of_users_with_easy_level))\n",
    "print ()\n",
    "\n",
    "purchase_df_of_users_with_easy_level_2 = purchase_df_of_users_with_easy_level[['user_id','event_datetime']].rename(columns={'event_datetime':'purchase_time'})\n",
    "\n",
    "merged_df_of_users_with_easy_level_registration = purchase_df_of_users_with_easy_level_2.merge(users_with_easy_level_df_registration,on='user_id',how='inner')\n",
    "merged_df_of_users_with_easy_level_registration['timedelta'] = merged_df_of_users_with_easy_level_registration['purchase_time'] - merged_df_of_users_with_easy_level_registration['registration_time']\n",
    "mean_time_of_users_with_easy_level_registration = merged_df_of_users_with_easy_level_registration['timedelta'].mean()\n",
    "print ('Среднее время между регистрацией и оплатой для пользователей, выбравших уровень сложности \"easy\": {}'.format(mean_time_of_users_with_easy_level_registration))\n",
    "print ('Характеристики времени:')\n",
    "print (merged_df_of_users_with_easy_level_registration['timedelta'].describe())\n",
    "print ()\n",
    "merged_df_of_users_with_easy_level_level_choice = purchase_df_of_users_with_easy_level_2.merge(users_with_easy_level_df_level_choice,on='user_id',how='inner')\n",
    "merged_df_of_users_with_easy_level_level_choice['timedelta'] = merged_df_of_users_with_easy_level_level_choice['purchase_time'] - merged_df_of_users_with_easy_level_level_choice['level_choice_time']\n",
    "mean_time_of_users_with_easy_level_level_choice = merged_df_of_users_with_easy_level_level_choice['timedelta'].mean()\n",
    "print ('Среднее время между выбором уровня сложности и оплатой для пользователей, выбравших уровень сложности \"easy\": {}'.format(mean_time_of_users_with_easy_level_level_choice))\n",
    "print ('Характеристики времени:')\n",
    "print (merged_df_of_users_with_easy_level_level_choice['timedelta'].describe())\n",
    "print ()"
   ]
  },
  {
   "cell_type": "markdown",
   "metadata": {},
   "source": [
    "Уровень сложности 'medium':"
   ]
  },
  {
   "cell_type": "code",
   "execution_count": 64,
   "metadata": {},
   "outputs": [
    {
     "name": "stdout",
     "output_type": "stream",
     "text": [
      "Процент оплативших пользователей, выбравших уровень сложности \"medium\": 20.86%\n",
      "\n",
      "Среднее время между регистрацией и оплатой для пользователей, выбравших уровень сложности \"medium\": 4 days 06:12:06.576883384\n",
      "Характеристики времени:\n",
      "count                          969\n",
      "mean     4 days 06:12:06.576883384\n",
      "std      2 days 06:25:57.480868026\n",
      "min                0 days 08:39:24\n",
      "25%                2 days 08:46:51\n",
      "50%                4 days 03:35:26\n",
      "75%                5 days 23:51:27\n",
      "max               10 days 20:34:02\n",
      "Name: timedelta, dtype: object\n",
      "\n",
      "Среднее время между выбором уровня сложности и оплатой для пользователей, выбравших уровень сложности \"medium\": 3 days 23:14:13.165118679\n",
      "Характеристики времени:\n",
      "count                          969\n",
      "mean     3 days 23:14:13.165118679\n",
      "std      2 days 06:18:57.618467109\n",
      "min                0 days 04:18:12\n",
      "25%                2 days 01:20:07\n",
      "50%                3 days 19:53:19\n",
      "75%                5 days 16:07:19\n",
      "max               10 days 13:51:01\n",
      "Name: timedelta, dtype: object\n",
      "\n"
     ]
    }
   ],
   "source": [
    "count_of_users_with_medium_level = len(users_with_medium_level)\n",
    "purchase_df_of_users_with_medium_level = purchase_df[purchase_df['user_id'].isin(users_with_medium_level)]\n",
    "percent_of_users_with_medium_level = purchase_df_of_users_with_medium_level['user_id'].nunique()/count_of_users_with_medium_level\n",
    "print ('Процент оплативших пользователей, выбравших уровень сложности \"medium\": {:.2%}'.format(percent_of_users_with_medium_level))\n",
    "print ()\n",
    "\n",
    "purchase_df_of_users_with_medium_level_2 = purchase_df_of_users_with_medium_level[['user_id','event_datetime']].rename(columns={'event_datetime':'purchase_time'})\n",
    "\n",
    "merged_df_of_users_with_medium_level_registration = purchase_df_of_users_with_medium_level_2.merge(users_with_medium_level_df_registration,on='user_id',how='inner')\n",
    "merged_df_of_users_with_medium_level_registration['timedelta'] = merged_df_of_users_with_medium_level_registration['purchase_time'] - merged_df_of_users_with_medium_level_registration['registration_time']\n",
    "mean_time_of_users_with_medium_level_registration = merged_df_of_users_with_medium_level_registration['timedelta'].mean()\n",
    "print ('Среднее время между регистрацией и оплатой для пользователей, выбравших уровень сложности \"medium\": {}'.format(mean_time_of_users_with_medium_level_registration))\n",
    "print ('Характеристики времени:')\n",
    "print (merged_df_of_users_with_medium_level_registration['timedelta'].describe())\n",
    "print ()\n",
    "merged_df_of_users_with_medium_level_level_choice = purchase_df_of_users_with_medium_level_2.merge(users_with_medium_level_df_level_choice,on='user_id',how='inner')\n",
    "merged_df_of_users_with_medium_level_level_choice['timedelta'] = merged_df_of_users_with_medium_level_level_choice['purchase_time'] - merged_df_of_users_with_medium_level_level_choice['level_choice_time']\n",
    "mean_time_of_users_with_medium_level_level_choice = merged_df_of_users_with_medium_level_level_choice['timedelta'].mean()\n",
    "print ('Среднее время между выбором уровня сложности и оплатой для пользователей, выбравших уровень сложности \"medium\": {}'.format(mean_time_of_users_with_medium_level_level_choice))\n",
    "print ('Характеристики времени:')\n",
    "print (merged_df_of_users_with_medium_level_level_choice['timedelta'].describe())\n",
    "print () "
   ]
  },
  {
   "cell_type": "markdown",
   "metadata": {},
   "source": [
    "Уровень сложности 'hard':"
   ]
  },
  {
   "cell_type": "code",
   "execution_count": 65,
   "metadata": {},
   "outputs": [
    {
     "name": "stdout",
     "output_type": "stream",
     "text": [
      "Процент оплативших пользователей, выбравших уровень сложности \"hard\": 35.39%\n",
      "\n",
      "Среднее время между регистрацией и оплатой для пользователей, выбравших уровень сложности \"hard\": 3 days 14:55:19.257918552\n",
      "Характеристики времени:\n",
      "count                          442\n",
      "mean     3 days 14:55:19.257918552\n",
      "std      1 days 22:22:52.441896774\n",
      "min                0 days 09:41:39\n",
      "25%         1 days 23:36:25.500000\n",
      "50%         3 days 10:10:04.500000\n",
      "75%         5 days 03:30:07.750000\n",
      "max                8 days 14:21:29\n",
      "Name: timedelta, dtype: object\n",
      "\n",
      "Среднее время между выбором уровня сложности и оплатой для пользователей, выбравших уровень сложности \"hard\": 3 days 07:20:41.420814479\n",
      "Характеристики времени:\n",
      "count                          442\n",
      "mean     3 days 07:20:41.420814479\n",
      "std      1 days 21:43:52.953292605\n",
      "min                0 days 03:26:45\n",
      "25%         1 days 14:57:23.500000\n",
      "50%         3 days 03:13:57.500000\n",
      "75%         4 days 19:16:00.250000\n",
      "max                8 days 01:18:13\n",
      "Name: timedelta, dtype: object\n",
      "\n"
     ]
    }
   ],
   "source": [
    "count_of_users_with_hard_level = len(users_with_hard_level)\n",
    "purchase_df_of_users_with_hard_level = purchase_df[purchase_df['user_id'].isin(users_with_hard_level)]\n",
    "percent_of_users_with_hard_level = purchase_df_of_users_with_hard_level['user_id'].nunique()/count_of_users_with_hard_level\n",
    "print ('Процент оплативших пользователей, выбравших уровень сложности \"hard\": {:.2%}'.format(percent_of_users_with_hard_level))\n",
    "print ()\n",
    "\n",
    "purchase_df_of_users_with_hard_level_2 = purchase_df_of_users_with_hard_level[['user_id','event_datetime']].rename(columns={'event_datetime':'purchase_time'})\n",
    "\n",
    "merged_df_of_users_with_hard_level_registration = purchase_df_of_users_with_hard_level_2.merge(users_with_hard_level_df_registration,on='user_id',how='inner')\n",
    "merged_df_of_users_with_hard_level_registration['timedelta'] = merged_df_of_users_with_hard_level_registration['purchase_time'] - merged_df_of_users_with_hard_level_registration['registration_time']\n",
    "mean_time_of_users_with_hard_level_registration = merged_df_of_users_with_hard_level_registration['timedelta'].mean()\n",
    "print ('Среднее время между регистрацией и оплатой для пользователей, выбравших уровень сложности \"hard\": {}'.format(mean_time_of_users_with_hard_level_registration))\n",
    "print ('Характеристики времени:')\n",
    "print (merged_df_of_users_with_hard_level_registration['timedelta'].describe())\n",
    "print ()\n",
    "merged_df_of_users_with_hard_level_level_choice = purchase_df_of_users_with_hard_level_2.merge(users_with_hard_level_df_level_choice,on='user_id',how='inner')\n",
    "merged_df_of_users_with_hard_level_level_choice['timedelta'] = merged_df_of_users_with_hard_level_level_choice['purchase_time'] - merged_df_of_users_with_hard_level_level_choice['level_choice_time']\n",
    "mean_time_of_users_with_hard_level_level_choice = merged_df_of_users_with_hard_level_level_choice['timedelta'].mean()\n",
    "print ('Среднее время между выбором уровня сложности и оплатой для пользователей, выбравших уровень сложности \"hard\": {}'.format(mean_time_of_users_with_hard_level_level_choice))\n",
    "print ('Характеристики времени:')\n",
    "print (merged_df_of_users_with_hard_level_level_choice['timedelta'].describe())\n",
    "print ()"
   ]
  },
  {
   "cell_type": "markdown",
   "metadata": {},
   "source": [
    "### АНАЛИЗ ПОЛУЧЕННЫХ ДАННЫХ И ВЫВОДЫ:"
   ]
  },
  {
   "cell_type": "markdown",
   "metadata": {},
   "source": [
    "Процент оплативших пользователей, выбравших уровень сложности easy: 7.72%\n",
    "Процент оплативших пользователей, выбравших уровень сложности medium: 20.86%\n",
    "Процент оплативших пользователей, выбравших уровень сложности hard: 35.39%\n",
    "Следовательно, с возрастанием уровня сложности тренировки возрастает процент оплативших пользователей.\n",
    "\n",
    "Среднее время между регистрацией и оплатой для пользователей, выбравших уровень сложности \"easy\": 3 days 22:10:23.\n",
    "Среднее время между регистрацией и оплатой для пользователей, выбравших уровень сложности \"medium\": 4 days 06:12:06.\n",
    "Среднее время между регистрацией и оплатой для пользователей, выбравших уровень сложности \"hard\": 3 days 14:55:19.\n",
    "Среднее время между выбором уровня сложности и оплатой для пользователей, выбравших уровень сложности \"easy\": 3 days 14:58:52.\n",
    "Среднее время между выбором уровня сложности и оплатой для пользователей, выбравших уровень сложности \"medium\": 3 days 23:14:13.\n",
    "Среднее время между выбором уровня сложности и оплатой для пользователей, выбравших уровень сложности \"hard\": 3 days 07:20:41.\n",
    "\n",
    "Наибольшее время между событием регистрации / выбора уровня сложности и моментом первой оплаты, тратят пользователи, которые выбрали уровень сложности medium.\n",
    "Пользователи, выбравшие уровень сложности easy, тратят времени незначительно меньшеб чем которые выбрали уровень сложности medium(разница порядка 10%).\n",
    "Меньше всего времени на принятие решение о покупке тратят пользователи, выбравшие уровень сложности hard.\n",
    "\n",
    "Таким образом, по результату изучения датасета можно сделать вывод, что больше всего совершали оплату пользователи, которые завершали обучение и выбирали высокий уровень сложности тренировки. Также данные пользователи тратили меньше времени на обдумывание оплаты. Следовательно, на данная группая пользователей является \"ключевым клиентом\" приложения, так как именно она больше всего влияет на выручку."
   ]
  }
 ],
 "metadata": {
  "interpreter": {
   "hash": "2be5faf79681da6f2a61fdfdd5405d65d042280f7fba6178067603e3a2925119"
  },
  "kernelspec": {
   "display_name": "Python 3.10.0 64-bit",
   "language": "python",
   "name": "python3"
  },
  "language_info": {
   "codemirror_mode": {
    "name": "ipython",
    "version": 3
   },
   "file_extension": ".py",
   "mimetype": "text/x-python",
   "name": "python",
   "nbconvert_exporter": "python",
   "pygments_lexer": "ipython3",
   "version": "3.9.7"
  },
  "orig_nbformat": 4
 },
 "nbformat": 4,
 "nbformat_minor": 2
}
